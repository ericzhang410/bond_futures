{
 "cells": [
  {
   "cell_type": "code",
   "execution_count": 1,
   "id": "4d0c5a5f",
   "metadata": {},
   "outputs": [
    {
     "name": "stdout",
     "output_type": "stream",
     "text": [
      "              Date       Price TradingDay TimeOfDay WeekDay  Relative Price  \\\n",
      "0     45922.750000  104.257812 2025-09-22  18:00:00  Monday        0.000000   \n",
      "1     45922.753472  104.257812 2025-09-22  18:05:00  Monday        0.000000   \n",
      "2     45922.756944  104.257812 2025-09-22  18:10:00  Monday        0.000000   \n",
      "3     45922.763889  104.257812 2025-09-22  18:20:00  Monday        0.000000   \n",
      "4     45922.767361  104.257812 2025-09-22  18:25:00  Monday        0.000000   \n",
      "...            ...         ...        ...       ...     ...             ...   \n",
      "2815  45937.489583  104.242188 2025-10-06  11:45:00  Monday        0.031250   \n",
      "2816  45937.493056  104.250000 2025-10-06  11:50:00  Monday        0.039062   \n",
      "2817  45937.496528  104.238281 2025-10-06  11:55:00  Monday        0.027344   \n",
      "2818  45937.500000  104.238281 2025-10-06  12:00:00  Monday        0.027344   \n",
      "2819  45937.503472  104.218750 2025-10-06  12:05:00  Monday        0.007812   \n",
      "\n",
      "         DaySD  \n",
      "0     0.010592  \n",
      "1     0.010592  \n",
      "2     0.010592  \n",
      "3     0.010592  \n",
      "4     0.010592  \n",
      "...        ...  \n",
      "2815  0.013429  \n",
      "2816  0.013429  \n",
      "2817  0.013429  \n",
      "2818  0.013429  \n",
      "2819  0.013429  \n",
      "\n",
      "[2820 rows x 7 columns]\n"
     ]
    }
   ],
   "source": [
    "import sys, pandas as pd, numpy as np\n",
    "sys.path.append(\"../src\")\n",
    "import rel_data\n",
    "\n",
    "data = pd.read_csv(\"../data/oct_data.csv\")\n",
    "\n",
    "clean = rel_data.df_maker(data)\n",
    "print(clean)"
   ]
  }
 ],
 "metadata": {
  "kernelspec": {
   "display_name": ".venv",
   "language": "python",
   "name": "python3"
  },
  "language_info": {
   "codemirror_mode": {
    "name": "ipython",
    "version": 3
   },
   "file_extension": ".py",
   "mimetype": "text/x-python",
   "name": "python",
   "nbconvert_exporter": "python",
   "pygments_lexer": "ipython3",
   "version": "3.11.9"
  }
 },
 "nbformat": 4,
 "nbformat_minor": 5
}
